{
 "cells": [
  {
   "cell_type": "code",
   "execution_count": null,
   "metadata": {},
   "outputs": [],
   "source": [
    "import random\n",
    "\n",
    "def guess(x):\n",
    "    random_number = random.randint(1, x)\n",
    "    guess = 0\n",
    "    while guess != random_number:\n",
    "        guess = int(input(\"Guess a number between 1 and \" + str(x) + \": \"))\n",
    "        if guess < random_number:\n",
    "            print(\"Too low!\")\n",
    "        elif guess > random_number:\n",
    "            print(\"Too high!\")\n",
    "        else:\n",
    "            print(\"You got it!\")\n",
    "            return guess\n",
    "        \n",
    "\n",
    "def computer_guess(x):\n",
    "    low = 1\n",
    "    high = x\n",
    "    feedback = \"\"\n",
    "    while feedback != 'c':\n",
    "        guess = random.randint(low, high)\n",
    "        feedback = input(\"Is \" + str(guess) + \" too High (H) or too Low (L), or correct (C)? \").lower()\n",
    "        if feedback == 'h':\n",
    "            high = guess - 1\n",
    "        elif feedback == 'l':\n",
    "            low = guess + 1\n",
    "        elif feedback == 'c':\n",
    "            print(\"I got it right!\")\n",
    "            return guess\n",
    "        else:\n",
    "            print(\"I didn't understand that. Try again.\")\n",
    "        \n",
    "computer_guess(10)"
   ]
  }
 ],
 "metadata": {
  "kernelspec": {
   "display_name": "Python 3",
   "language": "python",
   "name": "python3"
  },
  "language_info": {
   "codemirror_mode": {
    "name": "ipython",
    "version": 3
   },
   "file_extension": ".py",
   "mimetype": "text/x-python",
   "name": "python",
   "nbconvert_exporter": "python",
   "pygments_lexer": "ipython3",
   "version": "3.11.4"
  }
 },
 "nbformat": 4,
 "nbformat_minor": 2
}
