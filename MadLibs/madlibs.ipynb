{
 "cells": [
  {
   "cell_type": "code",
   "execution_count": 1,
   "metadata": {},
   "outputs": [
    {
     "name": "stdout",
     "output_type": "stream",
     "text": [
      "Hello my name is Alexis\n"
     ]
    }
   ],
   "source": [
    "# Concatenate a phrase with a variable\n",
    "name = \"Alexis\"\n",
    "print(\"Hello my name is \" + name)"
   ]
  },
  {
   "cell_type": "code",
   "execution_count": 2,
   "metadata": {},
   "outputs": [
    {
     "name": "stdout",
     "output_type": "stream",
     "text": [
      "Hello Alexis\n"
     ]
    }
   ],
   "source": [
    "# now with an input\n",
    "\n",
    "name = input(\"What is your name? \")\n",
    "\n",
    "print(\"Hello \" + name)\n"
   ]
  },
  {
   "cell_type": "code",
   "execution_count": 3,
   "metadata": {},
   "outputs": [
    {
     "name": "stdout",
     "output_type": "stream",
     "text": [
      "hello Alexis you are 18 years old\n"
     ]
    }
   ],
   "source": [
    "# now with some int variables\n",
    "\n",
    "name = input(\"What's your name?\")\n",
    "age = int(input(\"What's your age=\"))\n",
    "\n",
    "print(\"hello\", name, \"you are\", age, \"years old\")"
   ]
  }
 ],
 "metadata": {
  "kernelspec": {
   "display_name": "Python 3",
   "language": "python",
   "name": "python3"
  },
  "language_info": {
   "codemirror_mode": {
    "name": "ipython",
    "version": 3
   },
   "file_extension": ".py",
   "mimetype": "text/x-python",
   "name": "python",
   "nbconvert_exporter": "python",
   "pygments_lexer": "ipython3",
   "version": "3.11.4"
  }
 },
 "nbformat": 4,
 "nbformat_minor": 2
}
